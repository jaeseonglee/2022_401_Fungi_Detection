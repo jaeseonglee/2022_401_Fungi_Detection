{
 "cells": [
  {
   "cell_type": "code",
   "execution_count": 80,
   "id": "4df13228",
   "metadata": {
    "ExecuteTime": {
     "end_time": "2022-06-15T02:06:19.824099Z",
     "start_time": "2022-06-15T02:06:19.800118Z"
    }
   },
   "outputs": [],
   "source": [
    "import pandas as pd\n",
    "from glob import glob\n",
    "import re"
   ]
  },
  {
   "cell_type": "code",
   "execution_count": 81,
   "id": "210dc641",
   "metadata": {
    "ExecuteTime": {
     "end_time": "2022-06-15T02:06:19.968082Z",
     "start_time": "2022-06-15T02:06:19.952176Z"
    }
   },
   "outputs": [],
   "source": [
    "img_files = glob('fungi_test/*.jpg')\n",
    "xml_files = glob('xml/*.xml')\n",
    "p = re.compile(r'[\\d]')\n",
    "txt_str = []"
   ]
  },
  {
   "cell_type": "code",
   "execution_count": 82,
   "id": "aff86a57",
   "metadata": {
    "ExecuteTime": {
     "end_time": "2022-06-15T02:06:20.088070Z",
     "start_time": "2022-06-15T02:06:20.080073Z"
    }
   },
   "outputs": [
    {
     "name": "stdout",
     "output_type": "stream",
     "text": [
      "97\n",
      "94\n"
     ]
    }
   ],
   "source": [
    "print(len(img_files))\n",
    "print(len(xml_files))"
   ]
  },
  {
   "cell_type": "code",
   "execution_count": 85,
   "id": "77fb2b3c",
   "metadata": {
    "ExecuteTime": {
     "end_time": "2022-06-15T02:06:21.190899Z",
     "start_time": "2022-06-15T02:06:21.142831Z"
    },
    "scrolled": true
   },
   "outputs": [],
   "source": [
    "for i in img_files :\n",
    "    input_str = i + ' '\n",
    "    \n",
    "    for j in xml_files :\n",
    "        if i[-7 : -4 ] == j[-7 : -4] :\n",
    "            # txt 파일 작성.\n",
    "            with open(j, 'r') as file :\n",
    "                xml_str = ''.join(file.readlines())\n",
    "                \n",
    "            for j in range(xml_str.count('/object')) :\n",
    "                s = xml_str.split('/object')[j]\n",
    "        \n",
    "                input_str += ''.join(p.findall(s[s.index('<xmin>') : s.index('</xmin>')])) + ','\n",
    "                input_str += ''.join(p.findall(s[s.index('<ymin>') : s.index('</ymin>')])) + ','\n",
    "                input_str += ''.join(p.findall(s[s.index('<xmax>') : s.index('</xmax>')])) + ','\n",
    "                input_str += ''.join(p.findall(s[s.index('<ymax>') : s.index('</ymax>')])) + ',1 '\n",
    "                \n",
    "            break\n",
    "            \n",
    "    input_str += '\\n'\n",
    "    txt_str.append(input_str)"
   ]
  },
  {
   "cell_type": "code",
   "execution_count": 86,
   "id": "fdcc1c3d",
   "metadata": {
    "ExecuteTime": {
     "end_time": "2022-06-15T02:06:21.536264Z",
     "start_time": "2022-06-15T02:06:21.520262Z"
    }
   },
   "outputs": [],
   "source": [
    "with open('./temp.txt', 'a') as txt :\n",
    "    txt.write(''.join(txt_str))"
   ]
  },
  {
   "cell_type": "code",
   "execution_count": null,
   "id": "1c88e4a7",
   "metadata": {},
   "outputs": [],
   "source": []
  },
  {
   "cell_type": "code",
   "execution_count": null,
   "id": "7af2ceb8",
   "metadata": {},
   "outputs": [],
   "source": []
  }
 ],
 "metadata": {
  "kernelspec": {
   "display_name": "Python 3 (ipykernel)",
   "language": "python",
   "name": "python3"
  },
  "language_info": {
   "codemirror_mode": {
    "name": "ipython",
    "version": 3
   },
   "file_extension": ".py",
   "mimetype": "text/x-python",
   "name": "python",
   "nbconvert_exporter": "python",
   "pygments_lexer": "ipython3",
   "version": "3.8.8"
  },
  "toc": {
   "base_numbering": 1,
   "nav_menu": {},
   "number_sections": true,
   "sideBar": true,
   "skip_h1_title": false,
   "title_cell": "Table of Contents",
   "title_sidebar": "Contents",
   "toc_cell": false,
   "toc_position": {},
   "toc_section_display": true,
   "toc_window_display": false
  }
 },
 "nbformat": 4,
 "nbformat_minor": 5
}
